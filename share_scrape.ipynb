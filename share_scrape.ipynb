{
 "cells": [
  {
   "cell_type": "markdown",
   "metadata": {},
   "source": [
    "# Andrew Hogue (amh3ze)\n",
    "\n",
    "# Car Market Share Web Scraping"
   ]
  },
  {
   "cell_type": "markdown",
   "metadata": {},
   "source": [
    "### Website\n",
    "\n",
    "https://www.goodcarbadcar.net"
   ]
  },
  {
   "cell_type": "code",
   "execution_count": 4,
   "metadata": {},
   "outputs": [],
   "source": [
    "from bs4 import BeautifulSoup\n",
    "import numpy as np\n",
    "import pandas as pd\n",
    "import requests"
   ]
  },
  {
   "cell_type": "code",
   "execution_count": 122,
   "metadata": {},
   "outputs": [],
   "source": [
    "data = pd.DataFrame(columns = ['Make', 'Year', 'Sales', 'YOY_Change', 'US_Share', 'Share_Change'])"
   ]
  },
  {
   "cell_type": "code",
   "execution_count": 16,
   "metadata": {},
   "outputs": [],
   "source": [
    "reviews = pd.read_csv('car_reviews.csv')"
   ]
  },
  {
   "cell_type": "code",
   "execution_count": 84,
   "metadata": {},
   "outputs": [],
   "source": [
    "table = soup.find('table', id='table_4')"
   ]
  },
  {
   "cell_type": "code",
   "execution_count": 117,
   "metadata": {},
   "outputs": [],
   "source": [
    "makes = set(reviews.Make)\n",
    "makes.remove('smart')\n",
    "makes.remove('scion')\n",
    "makes.remove('suzuki')\n",
    "makes.remove('pontiac')\n",
    "makes.remove('saturn')"
   ]
  },
  {
   "cell_type": "code",
   "execution_count": 124,
   "metadata": {},
   "outputs": [],
   "source": [
    "for i in makes:\n",
    "    if i=='mercedes-benz':\n",
    "        page = requests.get(\"https://www.goodcarbadcar.net/{}-us-figures/\".format(i))\n",
    "    else:\n",
    "        page = requests.get(\"https://www.goodcarbadcar.net/{}-us-sales-figures/\".format(i))\n",
    "    soup = BeautifulSoup(page.text, 'html.parser')\n",
    "    table = soup.find('table', id='table_4')\n",
    "    rows = table.find_all('tr')\n",
    "    for j in range(3, 7):\n",
    "        lines = list(rows[j])\n",
    "        year = int(lines[1].get_text())\n",
    "        sales = lines[3].get_text()\n",
    "        ychange = lines[5].get_text()\n",
    "        share = lines[7].get_text()\n",
    "        schange = lines[9].get_text()\n",
    "        data = data.append({'Make': i, 'Year':year, 'Sales':sales, 'YOY_Change':ychange, 'US_Share':share, 'Share_Change':schange}, ignore_index=True)"
   ]
  },
  {
   "cell_type": "code",
   "execution_count": 126,
   "metadata": {},
   "outputs": [],
   "source": [
    "#data.to_csv('market_share.csv')"
   ]
  },
  {
   "cell_type": "code",
   "execution_count": null,
   "metadata": {},
   "outputs": [],
   "source": []
  }
 ],
 "metadata": {
  "kernelspec": {
   "display_name": "Python 3",
   "language": "python",
   "name": "python3"
  },
  "language_info": {
   "codemirror_mode": {
    "name": "ipython",
    "version": 3
   },
   "file_extension": ".py",
   "mimetype": "text/x-python",
   "name": "python",
   "nbconvert_exporter": "python",
   "pygments_lexer": "ipython3",
   "version": "3.7.6"
  }
 },
 "nbformat": 4,
 "nbformat_minor": 4
}
